{
  "cells": [
    {
      "cell_type": "code",
      "execution_count": 2,
      "metadata": {
        "_cell_guid": "b1076dfc-b9ad-4769-8c92-a6c4dae69d19",
        "_uuid": "8f2839f25d086af736a60e9eeb907d3b93b6e0e5",
        "execution": {
          "iopub.execute_input": "2020-10-06T13:12:27.906333Z",
          "iopub.status.busy": "2020-10-06T13:12:27.905505Z",
          "iopub.status.idle": "2020-10-06T13:12:35.347114Z",
          "shell.execute_reply": "2020-10-06T13:12:35.346444Z"
        },
        "id": "uymKFDQAmyec",
        "papermill": {
          "duration": 7.471245,
          "end_time": "2020-10-06T13:12:35.347304",
          "exception": false,
          "start_time": "2020-10-06T13:12:27.876059",
          "status": "completed"
        },
        "tags": []
      },
      "outputs": [],
      "source": [
        "import os\n",
        "import numpy as np\n",
        "import pandas as pd\n",
        "import seaborn as sea\n",
        "import random\n",
        "import tensorflow as tf\n",
        "from keras.applications.mobilenet import MobileNet\n",
        "from keras.preprocessing import image\n",
        "from keras.applications.mobilenet import preprocess_input\n",
        "from keras.layers import Dense, Dropout\n",
        "from keras.models import Sequential\n",
        "from keras.regularizers import l2\n",
        "import seaborn as sns\n",
        "from sklearn.model_selection import train_test_split\n",
        "from sklearn.metrics import classification_report, confusion_matrix\n",
        "from sklearn.metrics import confusion_matrix, ConfusionMatrixDisplay\n",
        "from sklearn.preprocessing import OneHotEncoder\n",
        "from sklearn.utils import shuffle\n",
        "from sklearn import svm\n",
        "from PIL import Image\n",
        "import matplotlib.pyplot as plt\n",
        "import matplotlib.gridspec as gridspec\n",
        "from sklearn.model_selection import GridSearchCV\n",
        "from sklearn.preprocessing import LabelEncoder\n",
        "from tabulate import tabulate\n",
        "from IPython.display import display\n",
        "from sklearn.multiclass import OneVsRestClassifier\n",
        "from xgboost import XGBClassifier\n",
        "from sklearn.linear_model import RidgeClassifierCV\n",
        "from sklearn.neighbors import NearestCentroid\n",
        "from sklearn.tree import DecisionTreeClassifier\n",
        "from sklearn.linear_model import RidgeClassifier\n",
        "from sklearn.naive_bayes import GaussianNB\n",
        "from sklearn.naive_bayes import BernoulliNB\n",
        "from sklearn.linear_model import LogisticRegression\n",
        "from sklearn.neighbors import KNeighborsClassifier\n",
        "from sklearn.ensemble import RandomForestClassifier\n",
        "import lightgbm\n",
        "from lightgbm import LGBMClassifier\n",
        "from sklearn import svm\n",
        "from IPython.display import clear_output\n"
      ]
    },
    {
      "cell_type": "code",
      "execution_count": 3,
      "metadata": {
        "colab": {
          "base_uri": "https://localhost:8080/"
        },
        "id": "Q0ONyOBYmyeu",
        "outputId": "9186ce93-c92d-4079-9e2d-999e701534bf"
      },
      "outputs": [
        {
          "name": "stdout",
          "output_type": "stream",
          "text": [
            "REPLICAS:  1\n"
          ]
        }
      ],
      "source": [
        "try:\n",
        "    tpu = tf.distribute.cluster_resolver.TPUClusterResolver()\n",
        "    print('Running on TPU ', tpu.master())\n",
        "except ValueError:\n",
        "    tpu = None\n",
        "\n",
        "if tpu:\n",
        "    tf.config.experimental_connect_to_cluster(tpu)\n",
        "    tf.tpu.experimental.initialize_tpu_system(tpu)\n",
        "    strategy = tf.distribute.experimental.TPUStrategy(tpu)\n",
        "else:\n",
        "    strategy = tf.distribute.get_strategy()\n",
        "\n",
        "print(\"REPLICAS: \", strategy.num_replicas_in_sync)"
      ]
    },
    {
      "cell_type": "code",
      "execution_count": 4,
      "metadata": {
        "_kg_hide-output": false,
        "colab": {
          "base_uri": "https://localhost:8080/"
        },
        "execution": {
          "iopub.execute_input": "2020-10-06T13:12:36.922765Z",
          "iopub.status.busy": "2020-10-06T13:12:36.921905Z",
          "iopub.status.idle": "2020-10-06T13:12:40.092839Z",
          "shell.execute_reply": "2020-10-06T13:12:40.093806Z"
        },
        "id": "z9fiEty7myfG",
        "outputId": "34b58648-9da7-4d49-d54b-7d0c76e497a9",
        "papermill": {
          "duration": 3.207551,
          "end_time": "2020-10-06T13:12:40.094104",
          "exception": false,
          "start_time": "2020-10-06T13:12:36.886553",
          "status": "completed"
        },
        "tags": []
      },
      "outputs": [
        {
          "name": "stdout",
          "output_type": "stream",
          "text": [
            "Model: \"mobilenet_1.00_224\"\n",
            "_________________________________________________________________\n",
            " Layer (type)                Output Shape              Param #   \n",
            "=================================================================\n",
            " input_1 (InputLayer)        [(None, 224, 224, 3)]     0         \n",
            "                                                                 \n",
            " conv1 (Conv2D)              (None, 112, 112, 32)      864       \n",
            "                                                                 \n",
            " conv1_bn (BatchNormalizatio  (None, 112, 112, 32)     128       \n",
            " n)                                                              \n",
            "                                                                 \n",
            " conv1_relu (ReLU)           (None, 112, 112, 32)      0         \n",
            "                                                                 \n",
            " conv_dw_1 (DepthwiseConv2D)  (None, 112, 112, 32)     288       \n",
            "                                                                 \n",
            " conv_dw_1_bn (BatchNormaliz  (None, 112, 112, 32)     128       \n",
            " ation)                                                          \n",
            "                                                                 \n",
            " conv_dw_1_relu (ReLU)       (None, 112, 112, 32)      0         \n",
            "                                                                 \n",
            " conv_pw_1 (Conv2D)          (None, 112, 112, 64)      2048      \n",
            "                                                                 \n",
            " conv_pw_1_bn (BatchNormaliz  (None, 112, 112, 64)     256       \n",
            " ation)                                                          \n",
            "                                                                 \n",
            " conv_pw_1_relu (ReLU)       (None, 112, 112, 64)      0         \n",
            "                                                                 \n",
            " conv_pad_2 (ZeroPadding2D)  (None, 113, 113, 64)      0         \n",
            "                                                                 \n",
            " conv_dw_2 (DepthwiseConv2D)  (None, 56, 56, 64)       576       \n",
            "                                                                 \n",
            " conv_dw_2_bn (BatchNormaliz  (None, 56, 56, 64)       256       \n",
            " ation)                                                          \n",
            "                                                                 \n",
            " conv_dw_2_relu (ReLU)       (None, 56, 56, 64)        0         \n",
            "                                                                 \n",
            " conv_pw_2 (Conv2D)          (None, 56, 56, 128)       8192      \n",
            "                                                                 \n",
            " conv_pw_2_bn (BatchNormaliz  (None, 56, 56, 128)      512       \n",
            " ation)                                                          \n",
            "                                                                 \n",
            " conv_pw_2_relu (ReLU)       (None, 56, 56, 128)       0         \n",
            "                                                                 \n",
            " conv_dw_3 (DepthwiseConv2D)  (None, 56, 56, 128)      1152      \n",
            "                                                                 \n",
            " conv_dw_3_bn (BatchNormaliz  (None, 56, 56, 128)      512       \n",
            " ation)                                                          \n",
            "                                                                 \n",
            " conv_dw_3_relu (ReLU)       (None, 56, 56, 128)       0         \n",
            "                                                                 \n",
            " conv_pw_3 (Conv2D)          (None, 56, 56, 128)       16384     \n",
            "                                                                 \n",
            " conv_pw_3_bn (BatchNormaliz  (None, 56, 56, 128)      512       \n",
            " ation)                                                          \n",
            "                                                                 \n",
            " conv_pw_3_relu (ReLU)       (None, 56, 56, 128)       0         \n",
            "                                                                 \n",
            " conv_pad_4 (ZeroPadding2D)  (None, 57, 57, 128)       0         \n",
            "                                                                 \n",
            " conv_dw_4 (DepthwiseConv2D)  (None, 28, 28, 128)      1152      \n",
            "                                                                 \n",
            " conv_dw_4_bn (BatchNormaliz  (None, 28, 28, 128)      512       \n",
            " ation)                                                          \n",
            "                                                                 \n",
            " conv_dw_4_relu (ReLU)       (None, 28, 28, 128)       0         \n",
            "                                                                 \n",
            " conv_pw_4 (Conv2D)          (None, 28, 28, 256)       32768     \n",
            "                                                                 \n",
            " conv_pw_4_bn (BatchNormaliz  (None, 28, 28, 256)      1024      \n",
            " ation)                                                          \n",
            "                                                                 \n",
            " conv_pw_4_relu (ReLU)       (None, 28, 28, 256)       0         \n",
            "                                                                 \n",
            " conv_dw_5 (DepthwiseConv2D)  (None, 28, 28, 256)      2304      \n",
            "                                                                 \n",
            " conv_dw_5_bn (BatchNormaliz  (None, 28, 28, 256)      1024      \n",
            " ation)                                                          \n",
            "                                                                 \n",
            " conv_dw_5_relu (ReLU)       (None, 28, 28, 256)       0         \n",
            "                                                                 \n",
            " conv_pw_5 (Conv2D)          (None, 28, 28, 256)       65536     \n",
            "                                                                 \n",
            " conv_pw_5_bn (BatchNormaliz  (None, 28, 28, 256)      1024      \n",
            " ation)                                                          \n",
            "                                                                 \n",
            " conv_pw_5_relu (ReLU)       (None, 28, 28, 256)       0         \n",
            "                                                                 \n",
            " conv_pad_6 (ZeroPadding2D)  (None, 29, 29, 256)       0         \n",
            "                                                                 \n",
            " conv_dw_6 (DepthwiseConv2D)  (None, 14, 14, 256)      2304      \n",
            "                                                                 \n",
            " conv_dw_6_bn (BatchNormaliz  (None, 14, 14, 256)      1024      \n",
            " ation)                                                          \n",
            "                                                                 \n",
            " conv_dw_6_relu (ReLU)       (None, 14, 14, 256)       0         \n",
            "                                                                 \n",
            " conv_pw_6 (Conv2D)          (None, 14, 14, 512)       131072    \n",
            "                                                                 \n",
            " conv_pw_6_bn (BatchNormaliz  (None, 14, 14, 512)      2048      \n",
            " ation)                                                          \n",
            "                                                                 \n",
            " conv_pw_6_relu (ReLU)       (None, 14, 14, 512)       0         \n",
            "                                                                 \n",
            " conv_dw_7 (DepthwiseConv2D)  (None, 14, 14, 512)      4608      \n",
            "                                                                 \n",
            " conv_dw_7_bn (BatchNormaliz  (None, 14, 14, 512)      2048      \n",
            " ation)                                                          \n",
            "                                                                 \n",
            " conv_dw_7_relu (ReLU)       (None, 14, 14, 512)       0         \n",
            "                                                                 \n",
            " conv_pw_7 (Conv2D)          (None, 14, 14, 512)       262144    \n",
            "                                                                 \n",
            " conv_pw_7_bn (BatchNormaliz  (None, 14, 14, 512)      2048      \n",
            " ation)                                                          \n",
            "                                                                 \n",
            " conv_pw_7_relu (ReLU)       (None, 14, 14, 512)       0         \n",
            "                                                                 \n",
            " conv_dw_8 (DepthwiseConv2D)  (None, 14, 14, 512)      4608      \n",
            "                                                                 \n",
            " conv_dw_8_bn (BatchNormaliz  (None, 14, 14, 512)      2048      \n",
            " ation)                                                          \n",
            "                                                                 \n",
            " conv_dw_8_relu (ReLU)       (None, 14, 14, 512)       0         \n",
            "                                                                 \n",
            " conv_pw_8 (Conv2D)          (None, 14, 14, 512)       262144    \n",
            "                                                                 \n",
            " conv_pw_8_bn (BatchNormaliz  (None, 14, 14, 512)      2048      \n",
            " ation)                                                          \n",
            "                                                                 \n",
            " conv_pw_8_relu (ReLU)       (None, 14, 14, 512)       0         \n",
            "                                                                 \n",
            " conv_dw_9 (DepthwiseConv2D)  (None, 14, 14, 512)      4608      \n",
            "                                                                 \n",
            " conv_dw_9_bn (BatchNormaliz  (None, 14, 14, 512)      2048      \n",
            " ation)                                                          \n",
            "                                                                 \n",
            " conv_dw_9_relu (ReLU)       (None, 14, 14, 512)       0         \n",
            "                                                                 \n",
            " conv_pw_9 (Conv2D)          (None, 14, 14, 512)       262144    \n",
            "                                                                 \n",
            " conv_pw_9_bn (BatchNormaliz  (None, 14, 14, 512)      2048      \n",
            " ation)                                                          \n",
            "                                                                 \n",
            " conv_pw_9_relu (ReLU)       (None, 14, 14, 512)       0         \n",
            "                                                                 \n",
            " conv_dw_10 (DepthwiseConv2D  (None, 14, 14, 512)      4608      \n",
            " )                                                               \n",
            "                                                                 \n",
            " conv_dw_10_bn (BatchNormali  (None, 14, 14, 512)      2048      \n",
            " zation)                                                         \n",
            "                                                                 \n",
            " conv_dw_10_relu (ReLU)      (None, 14, 14, 512)       0         \n",
            "                                                                 \n",
            " conv_pw_10 (Conv2D)         (None, 14, 14, 512)       262144    \n",
            "                                                                 \n",
            " conv_pw_10_bn (BatchNormali  (None, 14, 14, 512)      2048      \n",
            " zation)                                                         \n",
            "                                                                 \n",
            " conv_pw_10_relu (ReLU)      (None, 14, 14, 512)       0         \n",
            "                                                                 \n",
            " conv_dw_11 (DepthwiseConv2D  (None, 14, 14, 512)      4608      \n",
            " )                                                               \n",
            "                                                                 \n",
            " conv_dw_11_bn (BatchNormali  (None, 14, 14, 512)      2048      \n",
            " zation)                                                         \n",
            "                                                                 \n",
            " conv_dw_11_relu (ReLU)      (None, 14, 14, 512)       0         \n",
            "                                                                 \n",
            " conv_pw_11 (Conv2D)         (None, 14, 14, 512)       262144    \n",
            "                                                                 \n",
            " conv_pw_11_bn (BatchNormali  (None, 14, 14, 512)      2048      \n",
            " zation)                                                         \n",
            "                                                                 \n",
            " conv_pw_11_relu (ReLU)      (None, 14, 14, 512)       0         \n",
            "                                                                 \n",
            " conv_pad_12 (ZeroPadding2D)  (None, 15, 15, 512)      0         \n",
            "                                                                 \n",
            " conv_dw_12 (DepthwiseConv2D  (None, 7, 7, 512)        4608      \n",
            " )                                                               \n",
            "                                                                 \n",
            " conv_dw_12_bn (BatchNormali  (None, 7, 7, 512)        2048      \n",
            " zation)                                                         \n",
            "                                                                 \n",
            " conv_dw_12_relu (ReLU)      (None, 7, 7, 512)         0         \n",
            "                                                                 \n",
            " conv_pw_12 (Conv2D)         (None, 7, 7, 1024)        524288    \n",
            "                                                                 \n",
            " conv_pw_12_bn (BatchNormali  (None, 7, 7, 1024)       4096      \n",
            " zation)                                                         \n",
            "                                                                 \n",
            " conv_pw_12_relu (ReLU)      (None, 7, 7, 1024)        0         \n",
            "                                                                 \n",
            " conv_dw_13 (DepthwiseConv2D  (None, 7, 7, 1024)       9216      \n",
            " )                                                               \n",
            "                                                                 \n",
            " conv_dw_13_bn (BatchNormali  (None, 7, 7, 1024)       4096      \n",
            " zation)                                                         \n",
            "                                                                 \n",
            " conv_dw_13_relu (ReLU)      (None, 7, 7, 1024)        0         \n",
            "                                                                 \n",
            " conv_pw_13 (Conv2D)         (None, 7, 7, 1024)        1048576   \n",
            "                                                                 \n",
            " conv_pw_13_bn (BatchNormali  (None, 7, 7, 1024)       4096      \n",
            " zation)                                                         \n",
            "                                                                 \n",
            " conv_pw_13_relu (ReLU)      (None, 7, 7, 1024)        0         \n",
            "                                                                 \n",
            " global_average_pooling2d (G  (None, 1, 1, 1024)       0         \n",
            " lobalAveragePooling2D)                                          \n",
            "                                                                 \n",
            " dropout (Dropout)           (None, 1, 1, 1024)        0         \n",
            "                                                                 \n",
            " conv_preds (Conv2D)         (None, 1, 1, 1000)        1025000   \n",
            "                                                                 \n",
            " reshape_2 (Reshape)         (None, 1000)              0         \n",
            "                                                                 \n",
            " predictions (Activation)    (None, 1000)              0         \n",
            "                                                                 \n",
            "=================================================================\n",
            "Total params: 4,253,864\n",
            "Trainable params: 4,231,976\n",
            "Non-trainable params: 21,888\n",
            "_________________________________________________________________\n"
          ]
        }
      ],
      "source": [
        "# load pretrained MobileNet\n",
        "pre_trained_model = MobileNet(input_shape=(224,224,3), include_top=True)\n",
        "pre_trained_model.summary()"
      ]
    },
    {
      "cell_type": "code",
      "execution_count": 5,
      "metadata": {
        "execution": {
          "iopub.execute_input": "2020-10-06T13:12:40.254034Z",
          "iopub.status.busy": "2020-10-06T13:12:40.253260Z",
          "iopub.status.idle": "2020-10-06T13:12:40.256887Z",
          "shell.execute_reply": "2020-10-06T13:12:40.256121Z"
        },
        "id": "aPmNYDiUmyfK",
        "papermill": {
          "duration": 0.058575,
          "end_time": "2020-10-06T13:12:40.257014",
          "exception": false,
          "start_time": "2020-10-06T13:12:40.198439",
          "status": "completed"
        },
        "tags": []
      },
      "outputs": [],
      "source": [
        "vector = pre_trained_model.get_layer(\"reshape_2\").output\n",
        "feature_extractor = tf.keras.Model(pre_trained_model.input, vector)"
      ]
    },
    {
      "cell_type": "code",
      "execution_count": 6,
      "metadata": {
        "colab": {
          "base_uri": "https://localhost:8080/"
        },
        "execution": {
          "iopub.execute_input": "2020-10-06T13:12:40.406754Z",
          "iopub.status.busy": "2020-10-06T13:12:40.405870Z",
          "iopub.status.idle": "2020-10-06T13:17:25.768750Z",
          "shell.execute_reply": "2020-10-06T13:17:25.767824Z"
        },
        "id": "WoAiGq-zmyfM",
        "outputId": "99be6343-0f0a-4adc-b4c9-37eab20d4c82",
        "papermill": {
          "duration": 285.408948,
          "end_time": "2020-10-06T13:17:25.768930",
          "exception": false,
          "start_time": "2020-10-06T13:12:40.359982",
          "status": "completed"
        },
        "tags": []
      },
      "outputs": [
        {
          "name": "stdout",
          "output_type": "stream",
          "text": [
            "1/1 [==============================] - 1s 952ms/step\n"
          ]
        }
      ],
      "source": [
        "labels = ['bellflower','daisy','dandelion','tulip','sunflower','rose','lotus','iris']\n",
        "path = \"D:/STUDY/CODE/ML/PredFlower/Data/flowers\"\n",
        "\n",
        "# create empty feature and label lists\n",
        "x_list = []\n",
        "y_list = []\n",
        "\n",
        "for f in range(8):\n",
        "    folder_path = os.path.join(path, labels[f])\n",
        "    for file in os.listdir(folder_path):\n",
        "        file_path = os.path.join(folder_path, file)\n",
        "        # load image\n",
        "        img = Image.open(file_path).convert(\"RGB\")\n",
        "        img = img.resize((224, 224))\n",
        "        # convert image to numpy array\n",
        "        img_arr = np.array(img)\n",
        "        # add 1 more dimension\n",
        "        img_arr_b = np.expand_dims(img_arr, axis=0)\n",
        "        # preprocess image\n",
        "        input_img = preprocess_input(img_arr_b)\n",
        "        # extract feature\n",
        "        feature_vec = feature_extractor.predict(input_img)\n",
        "        x_list.append(feature_vec.ravel())\n",
        "        y_list.append(f)\n",
        "        clear_output(wait=True)"
      ]
    },
    {
      "cell_type": "code",
      "execution_count": 7,
      "metadata": {
        "colab": {
          "base_uri": "https://localhost:8080/",
          "height": 619
        },
        "id": "XDxsGlmLmyfO",
        "outputId": "5ce14b06-32b3-496e-bd74-a03eb9282e5d"
      },
      "outputs": [
        {
          "data": {
            "image/png": "[encoded data removed]",
            "text/plain": [
              "<Figure size 1400x700 with 1 Axes>"
            ]
          },
          "metadata": {},
          "output_type": "display_data"
        }
      ],
      "source": [
        "l = [labels[y] for y in y_list]\n",
        "plt.figure(figsize=(14,7))\n",
        "sns.set_style('whitegrid')\n",
        "ax = sns.countplot(x=l)\n",
        "for p in ax.patches:\n",
        "    ax.annotate((p.get_height()), (p.get_x()+0.30, p.get_height()+300), fontsize = 13)\n",
        "plt.xlabel('FLOWER SPECIES')\n",
        "plt.show()"
      ]
    },
    {
      "cell_type": "code",
      "execution_count": 8,
      "metadata": {
        "colab": {
          "base_uri": "https://localhost:8080/",
          "height": 444
        },
        "id": "HpgeXV3qmyfQ",
        "outputId": "2a17ed28-76c8-44df-97b8-075c80f4519b"
      },
      "outputs": [
        {
          "data": {
            "image/png": "[encoded data removed]",
            "text/plain": [
              "<Figure size 700x500 with 1 Axes>"
            ]
          },
          "metadata": {},
          "output_type": "display_data"
        }
      ],
      "source": [
        "l = [labels[y] for y in y_list]\n",
        "plt.figure(figsize=(7, 5))\n",
        "counts = pd.Series(l).value_counts()\n",
        "plt.pie(counts, labels=counts.index, autopct='%1.1f%%')\n",
        "plt.title('Distribution of FLOWER SPECIES')\n",
        "plt.show()"
      ]
    },
    {
      "cell_type": "code",
      "execution_count": 9,
      "metadata": {
        "colab": {
          "base_uri": "https://localhost:8080/"
        },
        "execution": {
          "iopub.execute_input": "2020-10-06T13:17:25.918836Z",
          "iopub.status.busy": "2020-10-06T13:17:25.917902Z",
          "iopub.status.idle": "2020-10-06T13:17:26.355599Z",
          "shell.execute_reply": "2020-10-06T13:17:26.354597Z"
        },
        "id": "GwxketvRmyfT",
        "outputId": "6d0cfc65-af20-405c-b6ef-95ed395717b8",
        "papermill": {
          "duration": 0.482919,
          "end_time": "2020-10-06T13:17:26.355795",
          "exception": false,
          "start_time": "2020-10-06T13:17:25.872876",
          "status": "completed"
        },
        "tags": []
      },
      "outputs": [
        {
          "name": "stdout",
          "output_type": "stream",
          "text": [
            "Shape of feature matrix X\n",
            "(20137, 1000)\n",
            "\n",
            "Shape of label matrix Y\n",
            "(20137,)\n",
            "\n",
            "Class labels\n",
            "[0. 1. 2. 3. 4. 5. 6. 7.]\n",
            "\n",
            "Class counts\n",
            "[2513 2530 2500 2500 2501 2573 2501 2519]\n"
          ]
        }
      ],
      "source": [
        "x = np.asarray(x_list, dtype=np.float32)\n",
        "y = np.asarray(y_list, dtype=np.float32)\n",
        "\n",
        "for s in range(100):\n",
        "    x, y = shuffle(x, y)\n",
        "\n",
        "print(\"Shape of feature matrix X\")\n",
        "print(x.shape)\n",
        "print(\"\\nShape of label matrix Y\")\n",
        "print(y.shape)\n",
        "\n",
        "class_types, counts = np.unique(y, return_counts=True)\n",
        "\n",
        "print(\"\\nClass labels\")\n",
        "print(class_types)\n",
        "print(\"\\nClass counts\")\n",
        "print(counts)"
      ]
    },
    {
      "cell_type": "code",
      "execution_count": 10,
      "metadata": {
        "colab": {
          "base_uri": "https://localhost:8080/"
        },
        "execution": {
          "iopub.execute_input": "2020-10-06T13:17:26.578322Z",
          "iopub.status.busy": "2020-10-06T13:17:26.577456Z",
          "iopub.status.idle": "2020-10-06T13:17:26.595114Z",
          "shell.execute_reply": "2020-10-06T13:17:26.596073Z"
        },
        "id": "1EYEkFeqmyfX",
        "outputId": "1366003b-a11d-4bcb-ca23-62a1b53671ff",
        "papermill": {
          "duration": 0.062266,
          "end_time": "2020-10-06T13:17:26.596346",
          "exception": false,
          "start_time": "2020-10-06T13:17:26.534080",
          "status": "completed"
        },
        "tags": []
      },
      "outputs": [
        {
          "name": "stdout",
          "output_type": "stream",
          "text": [
            "Shape of train_X\n",
            "(14095, 1000)\n",
            "\n",
            "Shape of test_X\n",
            "(4028, 1000)\n"
          ]
        }
      ],
      "source": [
        "x_train_temp, x_test, y_train_temp, y_test = train_test_split(x, y, test_size=0.2, stratify=y, random_state=40)\n",
        "x_train, x_val, y_train, y_val = train_test_split(x_train_temp, y_train_temp, test_size=0.125, stratify=y_train_temp, random_state=40)\n",
        "\n",
        "print(\"Shape of train_X\")\n",
        "print(x_train.shape)\n",
        "print(\"\\nShape of test_X\")\n",
        "print(x_test.shape)"
      ]
    },
    {
      "attachments": {},
      "cell_type": "markdown",
      "metadata": {
        "id": "3NykUAGDmyfZ"
      },
      "source": [
        "## CONFUSION MATRIX"
      ]
    },
    {
      "cell_type": "code",
      "execution_count": 11,
      "metadata": {
        "id": "4PQ6lo5omyfe"
      },
      "outputs": [],
      "source": [
        "class ConfusionMatrixPlot:\n",
        "    def __init__(self, labels, y_true, y_pred):\n",
        "        self.y_true = y_true\n",
        "        self.y_pred = y_pred\n",
        "        self.labels = labels\n",
        "    def plot(self):\n",
        "        conf_matrix = confusion_matrix(y_true=self.y_true, y_pred=self.y_pred)\n",
        "        plt.figure(figsize = (8,8))\n",
        "        sns.heatmap(conf_matrix, annot=True, linecolor = 'black' , linewidth = 1, fmt='', cmap=\"Blues\", xticklabels = self.labels , yticklabels = self.labels)\n",
        "        plt.xlabel('Predicted labels')\n",
        "        plt.ylabel('True labels')\n",
        "        plt.title('Confusion Matrix Of Best Model')\n",
        "        plt.show()"
      ]
    },
    {
      "attachments": {},
      "cell_type": "markdown",
      "metadata": {
        "id": "i1aAhc82myff"
      },
      "source": [
        "## CLASSIFICATION REPORT"
      ]
    },
    {
      "cell_type": "code",
      "execution_count": 12,
      "metadata": {
        "id": "YIYuHkK7myfg"
      },
      "outputs": [],
      "source": [
        "class ClassificationReportPlot:\n",
        "    def __init__(self,labels, true_labels, predicted_labels):\n",
        "        self.true_labels = true_labels\n",
        "        self.predicted_labels = predicted_labels\n",
        "        self.labels = labels\n",
        "    def plot(self):\n",
        "        report = classification_report(self.true_labels, self.predicted_labels, target_names=labels, output_dict=True)\n",
        "        report_df = pd.DataFrame(report).transpose()\n",
        "        pd.set_option(\"display.max_rows\", None)\n",
        "        report_df.style.set_properties(**{'border-color': 'black', 'border-style': 'solid'})\n",
        "        display(report_df)\n",
        "        plt.show()"
      ]
    },
    {
      "attachments": {},
      "cell_type": "markdown",
      "metadata": {
        "id": "qRB6wTevmyfr"
      },
      "source": [
        "## K NEAREST NEIGHBOR"
      ]
    },
    {
      "cell_type": "code",
      "execution_count": 13,
      "metadata": {
        "colab": {
          "base_uri": "https://localhost:8080/",
          "height": 1000
        },
        "id": "BkJ9L5ekmyfs",
        "outputId": "6df76035-c7f7-49c0-8906-b0d48f380026"
      },
      "outputs": [
        {
          "name": "stdout",
          "output_type": "stream",
          "text": [
            "Best Model: KNeighborsClassifier(n_neighbors=9,\n",
            "                     weights=<function weight2 at 0x000001B70F06EB90>)\n"
          ]
        },
        {
          "data": {
            "image/png": "[encoded data removed]",
            "text/plain": [
              "<Figure size 600x600 with 2 Axes>"
            ]
          },
          "metadata": {},
          "output_type": "display_data"
        },
        {
          "data": {
            "image/png": "[encoded data removed]",
            "text/plain": [
              "<Figure size 800x800 with 2 Axes>"
            ]
          },
          "metadata": {},
          "output_type": "display_data"
        },
        {
          "data": {
            "text/html": [
              "<div>\n",
              "<style scoped>\n",
              "    .dataframe tbody tr th:only-of-type {\n",
              "        vertical-align: middle;\n",
              "    }\n",
              "\n",
              "    .dataframe tbody tr th {\n",
              "        vertical-align: top;\n",
              "    }\n",
              "\n",
              "    .dataframe thead th {\n",
              "        text-align: right;\n",
              "    }\n",
              "</style>\n",
              "<table border=\"1\" class=\"dataframe\">\n",
              "  <thead>\n",
              "    <tr style=\"text-align: right;\">\n",
              "      <th></th>\n",
              "      <th>precision</th>\n",
              "      <th>recall</th>\n",
              "      <th>f1-score</th>\n",
              "      <th>support</th>\n",
              "    </tr>\n",
              "  </thead>\n",
              "  <tbody>\n",
              "    <tr>\n",
              "      <th>bellflower</th>\n",
              "      <td>0.846154</td>\n",
              "      <td>0.896620</td>\n",
              "      <td>0.870656</td>\n",
              "      <td>503.000000</td>\n",
              "    </tr>\n",
              "    <tr>\n",
              "      <th>daisy</th>\n",
              "      <td>0.894632</td>\n",
              "      <td>0.889328</td>\n",
              "      <td>0.891972</td>\n",
              "      <td>506.000000</td>\n",
              "    </tr>\n",
              "    <tr>\n",
              "      <th>dandelion</th>\n",
              "      <td>0.952282</td>\n",
              "      <td>0.918000</td>\n",
              "      <td>0.934827</td>\n",
              "      <td>500.000000</td>\n",
              "    </tr>\n",
              "    <tr>\n",
              "      <th>tulip</th>\n",
              "      <td>0.958425</td>\n",
              "      <td>0.876000</td>\n",
              "      <td>0.915361</td>\n",
              "      <td>500.000000</td>\n",
              "    </tr>\n",
              "    <tr>\n",
              "      <th>sunflower</th>\n",
              "      <td>0.928433</td>\n",
              "      <td>0.960000</td>\n",
              "      <td>0.943953</td>\n",
              "      <td>500.000000</td>\n",
              "    </tr>\n",
              "    <tr>\n",
              "      <th>rose</th>\n",
              "      <td>0.921154</td>\n",
              "      <td>0.930097</td>\n",
              "      <td>0.925604</td>\n",
              "      <td>515.000000</td>\n",
              "    </tr>\n",
              "    <tr>\n",
              "      <th>lotus</th>\n",
              "      <td>0.901575</td>\n",
              "      <td>0.916000</td>\n",
              "      <td>0.908730</td>\n",
              "      <td>500.000000</td>\n",
              "    </tr>\n",
              "    <tr>\n",
              "      <th>iris</th>\n",
              "      <td>0.933071</td>\n",
              "      <td>0.940476</td>\n",
              "      <td>0.936759</td>\n",
              "      <td>504.000000</td>\n",
              "    </tr>\n",
              "    <tr>\n",
              "      <th>accuracy</th>\n",
              "      <td>0.915839</td>\n",
              "      <td>0.915839</td>\n",
              "      <td>0.915839</td>\n",
              "      <td>0.915839</td>\n",
              "    </tr>\n",
              "    <tr>\n",
              "      <th>macro avg</th>\n",
              "      <td>0.916966</td>\n",
              "      <td>0.915815</td>\n",
              "      <td>0.915983</td>\n",
              "      <td>4028.000000</td>\n",
              "    </tr>\n",
              "    <tr>\n",
              "      <th>weighted avg</th>\n",
              "      <td>0.916911</td>\n",
              "      <td>0.915839</td>\n",
              "      <td>0.915970</td>\n",
              "      <td>4028.000000</td>\n",
              "    </tr>\n",
              "  </tbody>\n",
              "</table>\n",
              "</div>"
            ],
            "text/plain": [
              "              precision    recall  f1-score      support\n",
              "bellflower     0.846154  0.896620  0.870656   503.000000\n",
              "daisy          0.894632  0.889328  0.891972   506.000000\n",
              "dandelion      0.952282  0.918000  0.934827   500.000000\n",
              "tulip          0.958425  0.876000  0.915361   500.000000\n",
              "sunflower      0.928433  0.960000  0.943953   500.000000\n",
              "rose           0.921154  0.930097  0.925604   515.000000\n",
              "lotus          0.901575  0.916000  0.908730   500.000000\n",
              "iris           0.933071  0.940476  0.936759   504.000000\n",
              "accuracy       0.915839  0.915839  0.915839     0.915839\n",
              "macro avg      0.916966  0.915815  0.915983  4028.000000\n",
              "weighted avg   0.916911  0.915839  0.915970  4028.000000"
            ]
          },
          "metadata": {},
          "output_type": "display_data"
        }
      ],
      "source": [
        "from sklearn.model_selection import GridSearchCV\n",
        "def weight1(distances):\n",
        "    return distances\n",
        "def weight2(distances):\n",
        "    return 1 / distances**2\n",
        "def weight3(distances):\n",
        "    return 1 / distances\n",
        "param_grid = {\n",
        "    'n_neighbors': [5, 7, 9],\n",
        "    'weights': [weight1, weight2, weight3]\n",
        "}\n",
        "KNN = KNeighborsClassifier()\n",
        "grid_search = GridSearchCV(estimator=KNN, param_grid=param_grid, scoring='accuracy', cv=5)\n",
        "grid_search.fit(x_val, y_val)\n",
        "best_model = grid_search.best_estimator_\n",
        "print(\"Best Model:\", best_model)\n",
        "best_model.fit(x_train_temp,y_train_temp)\n",
        "y_pred = best_model.predict(x_test)\n",
        "mean_test_scores = grid_search.cv_results_['mean_test_score']\n",
        "parameters = grid_search.cv_results_['params']\n",
        "data = pd.DataFrame(mean_test_scores.reshape(len(param_grid['weights']), len(param_grid['n_neighbors'])),\n",
        "                    index=[f'Weight {i+1}' for i in range(len(param_grid['weights']))],\n",
        "                    columns=[f'Neighbors {j}' for j in param_grid['n_neighbors']])\n",
        "plt.figure(figsize=(6, 6))\n",
        "sns.heatmap(data, annot=True, fmt=\".2f\", cmap=\"Blues\", cbar=True)\n",
        "plt.xlabel('Number of Neighbors')\n",
        "plt.ylabel('Weight')\n",
        "plt.title('Accuracy Comparison with Different Parameters')\n",
        "plt.show()\n",
        "confusion_plot = ConfusionMatrixPlot(labels, y_test, y_pred)\n",
        "confusion_plot.plot()\n",
        "report_plot = ClassificationReportPlot(labels, y_test, y_pred)\n",
        "report_plot.plot()"
      ]
    },
    {
      "attachments": {},
      "cell_type": "markdown",
      "metadata": {
        "id": "TXyfos7Qmyfm",
        "papermill": {
          "duration": 0.034919,
          "end_time": "2020-10-06T13:17:26.667593",
          "exception": false,
          "start_time": "2020-10-06T13:17:26.632674",
          "status": "completed"
        },
        "tags": []
      },
      "source": [
        "## SVM"
      ]
    },
    {
      "cell_type": "code",
      "execution_count": 14,
      "metadata": {
        "colab": {
          "base_uri": "https://localhost:8080/",
          "height": 1000
        },
        "execution": {
          "iopub.execute_input": "2020-10-06T13:17:26.754994Z",
          "iopub.status.busy": "2020-10-06T13:17:26.753643Z",
          "iopub.status.idle": "2020-10-06T13:17:34.284823Z",
          "shell.execute_reply": "2020-10-06T13:17:34.283779Z"
        },
        "id": "s7up3mwrmyfn",
        "outputId": "217646af-8125-45f8-ae43-348a293b94dc",
        "papermill": {
          "duration": 7.582114,
          "end_time": "2020-10-06T13:17:34.285007",
          "exception": false,
          "start_time": "2020-10-06T13:17:26.702893",
          "status": "completed"
        },
        "tags": []
      },
      "outputs": [
        {
          "ename": "ValueError",
          "evalue": "\nAll the 45 fits failed.\nIt is very likely that your model is misconfigured.\nYou can try to debug the error by setting error_score='raise'.\n\nBelow are more details about the failures:\n--------------------------------------------------------------------------------\n15 fits failed with the following error:\nTraceback (most recent call last):\n  File \"c:\\Users\\Nguyen Duc Thinh\\AppData\\Local\\Programs\\Python\\Python310\\lib\\site-packages\\sklearn\\model_selection\\_validation.py\", line 686, in _fit_and_score\n    estimator.fit(X_train, y_train, **fit_params)\n  File \"c:\\Users\\Nguyen Duc Thinh\\AppData\\Local\\Programs\\Python\\Python310\\lib\\site-packages\\sklearn\\svm\\_base.py\", line 180, in fit\n    self._validate_params()\n  File \"c:\\Users\\Nguyen Duc Thinh\\AppData\\Local\\Programs\\Python\\Python310\\lib\\site-packages\\sklearn\\base.py\", line 600, in _validate_params\n    validate_parameter_constraints(\n  File \"c:\\Users\\Nguyen Duc Thinh\\AppData\\Local\\Programs\\Python\\Python310\\lib\\site-packages\\sklearn\\utils\\_param_validation.py\", line 97, in validate_parameter_constraints\n    raise InvalidParameterError(\nsklearn.utils._param_validation.InvalidParameterError: The 'gamma' parameter of SVC must be a str among {'scale', 'auto'} or a float in the range [0.0, inf). Got <function gamma1 at 0x000001B74CE82440> instead.\n\n--------------------------------------------------------------------------------\n15 fits failed with the following error:\nTraceback (most recent call last):\n  File \"c:\\Users\\Nguyen Duc Thinh\\AppData\\Local\\Programs\\Python\\Python310\\lib\\site-packages\\sklearn\\model_selection\\_validation.py\", line 686, in _fit_and_score\n    estimator.fit(X_train, y_train, **fit_params)\n  File \"c:\\Users\\Nguyen Duc Thinh\\AppData\\Local\\Programs\\Python\\Python310\\lib\\site-packages\\sklearn\\svm\\_base.py\", line 180, in fit\n    self._validate_params()\n  File \"c:\\Users\\Nguyen Duc Thinh\\AppData\\Local\\Programs\\Python\\Python310\\lib\\site-packages\\sklearn\\base.py\", line 600, in _validate_params\n    validate_parameter_constraints(\n  File \"c:\\Users\\Nguyen Duc Thinh\\AppData\\Local\\Programs\\Python\\Python310\\lib\\site-packages\\sklearn\\utils\\_param_validation.py\", line 97, in validate_parameter_constraints\n    raise InvalidParameterError(\nsklearn.utils._param_validation.InvalidParameterError: The 'gamma' parameter of SVC must be a str among {'scale', 'auto'} or a float in the range [0.0, inf). Got <function gamma2 at 0x000001B74CE824D0> instead.\n\n--------------------------------------------------------------------------------\n15 fits failed with the following error:\nTraceback (most recent call last):\n  File \"c:\\Users\\Nguyen Duc Thinh\\AppData\\Local\\Programs\\Python\\Python310\\lib\\site-packages\\sklearn\\model_selection\\_validation.py\", line 686, in _fit_and_score\n    estimator.fit(X_train, y_train, **fit_params)\n  File \"c:\\Users\\Nguyen Duc Thinh\\AppData\\Local\\Programs\\Python\\Python310\\lib\\site-packages\\sklearn\\svm\\_base.py\", line 180, in fit\n    self._validate_params()\n  File \"c:\\Users\\Nguyen Duc Thinh\\AppData\\Local\\Programs\\Python\\Python310\\lib\\site-packages\\sklearn\\base.py\", line 600, in _validate_params\n    validate_parameter_constraints(\n  File \"c:\\Users\\Nguyen Duc Thinh\\AppData\\Local\\Programs\\Python\\Python310\\lib\\site-packages\\sklearn\\utils\\_param_validation.py\", line 97, in validate_parameter_constraints\n    raise InvalidParameterError(\nsklearn.utils._param_validation.InvalidParameterError: The 'gamma' parameter of SVC must be a str among {'scale', 'auto'} or a float in the range [0.0, inf). Got <function gamma3 at 0x000001B74CE82680> instead.\n",
          "output_type": "error",
          "traceback": [
            "\u001b[1;31m---------------------------------------------------------------------------\u001b[0m",
            "\u001b[1;31mValueError\u001b[0m                                Traceback (most recent call last)",
            "Cell \u001b[1;32mIn[14], line 13\u001b[0m\n\u001b[0;32m     11\u001b[0m svm \u001b[39m=\u001b[39m svm\u001b[39m.\u001b[39mSVC(kernel\u001b[39m=\u001b[39m\u001b[39m'\u001b[39m\u001b[39mrbf\u001b[39m\u001b[39m'\u001b[39m)\n\u001b[0;32m     12\u001b[0m grid_search \u001b[39m=\u001b[39m GridSearchCV(estimator\u001b[39m=\u001b[39msvm, param_grid\u001b[39m=\u001b[39mparam_grid, scoring\u001b[39m=\u001b[39m\u001b[39m'\u001b[39m\u001b[39maccuracy\u001b[39m\u001b[39m'\u001b[39m, cv\u001b[39m=\u001b[39m\u001b[39m5\u001b[39m)\n\u001b[1;32m---> 13\u001b[0m grid_search\u001b[39m.\u001b[39;49mfit(x_val, y_val)\n\u001b[0;32m     14\u001b[0m best_model \u001b[39m=\u001b[39m grid_search\u001b[39m.\u001b[39mbest_estimator_\n\u001b[0;32m     15\u001b[0m \u001b[39mprint\u001b[39m(\u001b[39m\"\u001b[39m\u001b[39mBest Model:\u001b[39m\u001b[39m\"\u001b[39m, best_model)\n",
            "File \u001b[1;32mc:\\Users\\Nguyen Duc Thinh\\AppData\\Local\\Programs\\Python\\Python310\\lib\\site-packages\\sklearn\\model_selection\\_search.py:874\u001b[0m, in \u001b[0;36mBaseSearchCV.fit\u001b[1;34m(self, X, y, groups, **fit_params)\u001b[0m\n\u001b[0;32m    868\u001b[0m     results \u001b[39m=\u001b[39m \u001b[39mself\u001b[39m\u001b[39m.\u001b[39m_format_results(\n\u001b[0;32m    869\u001b[0m         all_candidate_params, n_splits, all_out, all_more_results\n\u001b[0;32m    870\u001b[0m     )\n\u001b[0;32m    872\u001b[0m     \u001b[39mreturn\u001b[39;00m results\n\u001b[1;32m--> 874\u001b[0m \u001b[39mself\u001b[39;49m\u001b[39m.\u001b[39;49m_run_search(evaluate_candidates)\n\u001b[0;32m    876\u001b[0m \u001b[39m# multimetric is determined here because in the case of a callable\u001b[39;00m\n\u001b[0;32m    877\u001b[0m \u001b[39m# self.scoring the return type is only known after calling\u001b[39;00m\n\u001b[0;32m    878\u001b[0m first_test_score \u001b[39m=\u001b[39m all_out[\u001b[39m0\u001b[39m][\u001b[39m\"\u001b[39m\u001b[39mtest_scores\u001b[39m\u001b[39m\"\u001b[39m]\n",
            "File \u001b[1;32mc:\\Users\\Nguyen Duc Thinh\\AppData\\Local\\Programs\\Python\\Python310\\lib\\site-packages\\sklearn\\model_selection\\_search.py:1388\u001b[0m, in \u001b[0;36mGridSearchCV._run_search\u001b[1;34m(self, evaluate_candidates)\u001b[0m\n\u001b[0;32m   1386\u001b[0m \u001b[39mdef\u001b[39;00m \u001b[39m_run_search\u001b[39m(\u001b[39mself\u001b[39m, evaluate_candidates):\n\u001b[0;32m   1387\u001b[0m \u001b[39m    \u001b[39m\u001b[39m\"\"\"Search all candidates in param_grid\"\"\"\u001b[39;00m\n\u001b[1;32m-> 1388\u001b[0m     evaluate_candidates(ParameterGrid(\u001b[39mself\u001b[39;49m\u001b[39m.\u001b[39;49mparam_grid))\n",
            "File \u001b[1;32mc:\\Users\\Nguyen Duc Thinh\\AppData\\Local\\Programs\\Python\\Python310\\lib\\site-packages\\sklearn\\model_selection\\_search.py:851\u001b[0m, in \u001b[0;36mBaseSearchCV.fit.<locals>.evaluate_candidates\u001b[1;34m(candidate_params, cv, more_results)\u001b[0m\n\u001b[0;32m    844\u001b[0m \u001b[39melif\u001b[39;00m \u001b[39mlen\u001b[39m(out) \u001b[39m!=\u001b[39m n_candidates \u001b[39m*\u001b[39m n_splits:\n\u001b[0;32m    845\u001b[0m     \u001b[39mraise\u001b[39;00m \u001b[39mValueError\u001b[39;00m(\n\u001b[0;32m    846\u001b[0m         \u001b[39m\"\u001b[39m\u001b[39mcv.split and cv.get_n_splits returned \u001b[39m\u001b[39m\"\u001b[39m\n\u001b[0;32m    847\u001b[0m         \u001b[39m\"\u001b[39m\u001b[39minconsistent results. Expected \u001b[39m\u001b[39m{}\u001b[39;00m\u001b[39m \u001b[39m\u001b[39m\"\u001b[39m\n\u001b[0;32m    848\u001b[0m         \u001b[39m\"\u001b[39m\u001b[39msplits, got \u001b[39m\u001b[39m{}\u001b[39;00m\u001b[39m\"\u001b[39m\u001b[39m.\u001b[39mformat(n_splits, \u001b[39mlen\u001b[39m(out) \u001b[39m/\u001b[39m\u001b[39m/\u001b[39m n_candidates)\n\u001b[0;32m    849\u001b[0m     )\n\u001b[1;32m--> 851\u001b[0m _warn_or_raise_about_fit_failures(out, \u001b[39mself\u001b[39;49m\u001b[39m.\u001b[39;49merror_score)\n\u001b[0;32m    853\u001b[0m \u001b[39m# For callable self.scoring, the return type is only know after\u001b[39;00m\n\u001b[0;32m    854\u001b[0m \u001b[39m# calling. If the return type is a dictionary, the error scores\u001b[39;00m\n\u001b[0;32m    855\u001b[0m \u001b[39m# can now be inserted with the correct key. The type checking\u001b[39;00m\n\u001b[0;32m    856\u001b[0m \u001b[39m# of out will be done in `_insert_error_scores`.\u001b[39;00m\n\u001b[0;32m    857\u001b[0m \u001b[39mif\u001b[39;00m callable(\u001b[39mself\u001b[39m\u001b[39m.\u001b[39mscoring):\n",
            "File \u001b[1;32mc:\\Users\\Nguyen Duc Thinh\\AppData\\Local\\Programs\\Python\\Python310\\lib\\site-packages\\sklearn\\model_selection\\_validation.py:367\u001b[0m, in \u001b[0;36m_warn_or_raise_about_fit_failures\u001b[1;34m(results, error_score)\u001b[0m\n\u001b[0;32m    360\u001b[0m \u001b[39mif\u001b[39;00m num_failed_fits \u001b[39m==\u001b[39m num_fits:\n\u001b[0;32m    361\u001b[0m     all_fits_failed_message \u001b[39m=\u001b[39m (\n\u001b[0;32m    362\u001b[0m         \u001b[39mf\u001b[39m\u001b[39m\"\u001b[39m\u001b[39m\\n\u001b[39;00m\u001b[39mAll the \u001b[39m\u001b[39m{\u001b[39;00mnum_fits\u001b[39m}\u001b[39;00m\u001b[39m fits failed.\u001b[39m\u001b[39m\\n\u001b[39;00m\u001b[39m\"\u001b[39m\n\u001b[0;32m    363\u001b[0m         \u001b[39m\"\u001b[39m\u001b[39mIt is very likely that your model is misconfigured.\u001b[39m\u001b[39m\\n\u001b[39;00m\u001b[39m\"\u001b[39m\n\u001b[0;32m    364\u001b[0m         \u001b[39m\"\u001b[39m\u001b[39mYou can try to debug the error by setting error_score=\u001b[39m\u001b[39m'\u001b[39m\u001b[39mraise\u001b[39m\u001b[39m'\u001b[39m\u001b[39m.\u001b[39m\u001b[39m\\n\u001b[39;00m\u001b[39m\\n\u001b[39;00m\u001b[39m\"\u001b[39m\n\u001b[0;32m    365\u001b[0m         \u001b[39mf\u001b[39m\u001b[39m\"\u001b[39m\u001b[39mBelow are more details about the failures:\u001b[39m\u001b[39m\\n\u001b[39;00m\u001b[39m{\u001b[39;00mfit_errors_summary\u001b[39m}\u001b[39;00m\u001b[39m\"\u001b[39m\n\u001b[0;32m    366\u001b[0m     )\n\u001b[1;32m--> 367\u001b[0m     \u001b[39mraise\u001b[39;00m \u001b[39mValueError\u001b[39;00m(all_fits_failed_message)\n\u001b[0;32m    369\u001b[0m \u001b[39melse\u001b[39;00m:\n\u001b[0;32m    370\u001b[0m     some_fits_failed_message \u001b[39m=\u001b[39m (\n\u001b[0;32m    371\u001b[0m         \u001b[39mf\u001b[39m\u001b[39m\"\u001b[39m\u001b[39m\\n\u001b[39;00m\u001b[39m{\u001b[39;00mnum_failed_fits\u001b[39m}\u001b[39;00m\u001b[39m fits failed out of a total of \u001b[39m\u001b[39m{\u001b[39;00mnum_fits\u001b[39m}\u001b[39;00m\u001b[39m.\u001b[39m\u001b[39m\\n\u001b[39;00m\u001b[39m\"\u001b[39m\n\u001b[0;32m    372\u001b[0m         \u001b[39m\"\u001b[39m\u001b[39mThe score on these train-test partitions for these parameters\u001b[39m\u001b[39m\"\u001b[39m\n\u001b[1;32m   (...)\u001b[0m\n\u001b[0;32m    376\u001b[0m         \u001b[39mf\u001b[39m\u001b[39m\"\u001b[39m\u001b[39mBelow are more details about the failures:\u001b[39m\u001b[39m\\n\u001b[39;00m\u001b[39m{\u001b[39;00mfit_errors_summary\u001b[39m}\u001b[39;00m\u001b[39m\"\u001b[39m\n\u001b[0;32m    377\u001b[0m     )\n",
            "\u001b[1;31mValueError\u001b[0m: \nAll the 45 fits failed.\nIt is very likely that your model is misconfigured.\nYou can try to debug the error by setting error_score='raise'.\n\nBelow are more details about the failures:\n--------------------------------------------------------------------------------\n15 fits failed with the following error:\nTraceback (most recent call last):\n  File \"c:\\Users\\Nguyen Duc Thinh\\AppData\\Local\\Programs\\Python\\Python310\\lib\\site-packages\\sklearn\\model_selection\\_validation.py\", line 686, in _fit_and_score\n    estimator.fit(X_train, y_train, **fit_params)\n  File \"c:\\Users\\Nguyen Duc Thinh\\AppData\\Local\\Programs\\Python\\Python310\\lib\\site-packages\\sklearn\\svm\\_base.py\", line 180, in fit\n    self._validate_params()\n  File \"c:\\Users\\Nguyen Duc Thinh\\AppData\\Local\\Programs\\Python\\Python310\\lib\\site-packages\\sklearn\\base.py\", line 600, in _validate_params\n    validate_parameter_constraints(\n  File \"c:\\Users\\Nguyen Duc Thinh\\AppData\\Local\\Programs\\Python\\Python310\\lib\\site-packages\\sklearn\\utils\\_param_validation.py\", line 97, in validate_parameter_constraints\n    raise InvalidParameterError(\nsklearn.utils._param_validation.InvalidParameterError: The 'gamma' parameter of SVC must be a str among {'scale', 'auto'} or a float in the range [0.0, inf). Got <function gamma1 at 0x000001B74CE82440> instead.\n\n--------------------------------------------------------------------------------\n15 fits failed with the following error:\nTraceback (most recent call last):\n  File \"c:\\Users\\Nguyen Duc Thinh\\AppData\\Local\\Programs\\Python\\Python310\\lib\\site-packages\\sklearn\\model_selection\\_validation.py\", line 686, in _fit_and_score\n    estimator.fit(X_train, y_train, **fit_params)\n  File \"c:\\Users\\Nguyen Duc Thinh\\AppData\\Local\\Programs\\Python\\Python310\\lib\\site-packages\\sklearn\\svm\\_base.py\", line 180, in fit\n    self._validate_params()\n  File \"c:\\Users\\Nguyen Duc Thinh\\AppData\\Local\\Programs\\Python\\Python310\\lib\\site-packages\\sklearn\\base.py\", line 600, in _validate_params\n    validate_parameter_constraints(\n  File \"c:\\Users\\Nguyen Duc Thinh\\AppData\\Local\\Programs\\Python\\Python310\\lib\\site-packages\\sklearn\\utils\\_param_validation.py\", line 97, in validate_parameter_constraints\n    raise InvalidParameterError(\nsklearn.utils._param_validation.InvalidParameterError: The 'gamma' parameter of SVC must be a str among {'scale', 'auto'} or a float in the range [0.0, inf). Got <function gamma2 at 0x000001B74CE824D0> instead.\n\n--------------------------------------------------------------------------------\n15 fits failed with the following error:\nTraceback (most recent call last):\n  File \"c:\\Users\\Nguyen Duc Thinh\\AppData\\Local\\Programs\\Python\\Python310\\lib\\site-packages\\sklearn\\model_selection\\_validation.py\", line 686, in _fit_and_score\n    estimator.fit(X_train, y_train, **fit_params)\n  File \"c:\\Users\\Nguyen Duc Thinh\\AppData\\Local\\Programs\\Python\\Python310\\lib\\site-packages\\sklearn\\svm\\_base.py\", line 180, in fit\n    self._validate_params()\n  File \"c:\\Users\\Nguyen Duc Thinh\\AppData\\Local\\Programs\\Python\\Python310\\lib\\site-packages\\sklearn\\base.py\", line 600, in _validate_params\n    validate_parameter_constraints(\n  File \"c:\\Users\\Nguyen Duc Thinh\\AppData\\Local\\Programs\\Python\\Python310\\lib\\site-packages\\sklearn\\utils\\_param_validation.py\", line 97, in validate_parameter_constraints\n    raise InvalidParameterError(\nsklearn.utils._param_validation.InvalidParameterError: The 'gamma' parameter of SVC must be a str among {'scale', 'auto'} or a float in the range [0.0, inf). Got <function gamma3 at 0x000001B74CE82680> instead.\n"
          ]
        }
      ],
      "source": [
        "from sklearn import svm\n",
        "def gamma1():\n",
        "    return 0.002\n",
        "def gamma2():\n",
        "    return 0.0005\n",
        "def gamma3():\n",
        "    return 0.001\n",
        "param_grid = [\n",
        "    {'C': [1,2,5], 'gamma': [gamma1, gamma2, gamma3]},\n",
        "]\n",
        "svm = svm.SVC(kernel='rbf')\n",
        "grid_search = GridSearchCV(estimator=svm, param_grid=param_grid, scoring='accuracy', cv=5)\n",
        "grid_search.fit(x_val, y_val)\n",
        "best_model = grid_search.best_estimator_\n",
        "print(\"Best Model:\", best_model)\n",
        "best_model.fit(x_train_temp,y_train_temp)\n",
        "y_pred = best_model.predict(x_test)\n",
        "mean_test_scores = grid_search.cv_results_['mean_test_score']\n",
        "parameters = grid_search.cv_results_['params']\n",
        "data = pd.DataFrame(\n",
        "    np.array(mean_test_scores).reshape(len(param_grid['C']), len(param_grid['gamma'])),\n",
        "    index=[f'C {i}' for i in param_grid['C']],\n",
        "    columns=[f'gamma {j+1}' for j in range(len(param_grid['gamma']))])\n",
        "plt.figure(figsize=(6, 6))\n",
        "sns.heatmap(data, annot=True, fmt=\".2f\", cmap=\"Blues\", cbar=True)\n",
        "plt.xlabel('Gamma')\n",
        "plt.ylabel('C')\n",
        "plt.title('Accuracy Comparison with Different Parameters')\n",
        "plt.show()\n",
        "confusion_plot = ConfusionMatrixPlot(labels, y_test, y_pred)\n",
        "confusion_plot.plot()\n",
        "report_plot = ClassificationReportPlot(labels, y_test, y_pred)\n",
        "report_plot.plot()"
      ]
    },
    {
      "attachments": {},
      "cell_type": "markdown",
      "metadata": {
        "id": "m82OuAHNmyfj"
      },
      "source": [
        "## XGBOOST\n"
      ]
    },
    {
      "cell_type": "code",
      "execution_count": null,
      "metadata": {
        "colab": {
          "base_uri": "https://localhost:8080/",
          "height": 381
        },
        "id": "aaXawaEgmyfl",
        "outputId": "15333e7a-01e7-4da2-f959-00c5e0de7936"
      },
      "outputs": [
        {
          "name": "stdout",
          "output_type": "stream",
          "text": [
            "Best Model: XGBClassifier(base_score=None, booster=None, callbacks=None,\n",
            "              colsample_bylevel=None, colsample_bynode=None,\n",
            "              colsample_bytree=None, early_stopping_rounds=None,\n",
            "              enable_categorical=False, eval_metric=None, feature_types=None,\n",
            "              gamma=None, gpu_id=None, grow_policy=None, importance_type=None,\n",
            "              interaction_constraints=None, learning_rate=None, max_bin=None,\n",
            "              max_cat_threshold=None, max_cat_to_onehot=None,\n",
            "              max_delta_step=None, max_depth=50, max_leaves=None,\n",
            "              min_child_weight=None, missing=nan, monotone_constraints=None,\n",
            "              n_estimators=300, n_jobs=-1, num_parallel_tree=None,\n",
            "              objective='multi:softprob', predictor=None, ...)\n"
          ]
        }
      ],
      "source": [
        "param_grid = {\n",
        "    'max_depth': [50,100,200],\n",
        "    'n_estimators': [200,300,400]\n",
        "}\n",
        "XGBoost = XGBClassifier(random_state=50, n_jobs=-1)\n",
        "grid_search = GridSearchCV(estimator=XGBoost, param_grid=param_grid, scoring='accuracy', cv=5)\n",
        "grid_search.fit(x_val, y_val)\n",
        "best_model = grid_search.best_estimator_\n",
        "print(\"Best Model:\", best_model)\n",
        "best_model.fit(x_train_temp,y_train_temp)\n",
        "y_pred = best_model.predict(x_test)\n",
        "confusion_plot = ConfusionMatrixPlot(labels, y_test, y_pred)\n",
        "confusion_plot.plot()\n",
        "report_plot = ClassificationReportPlot(labels, y_test, y_pred)\n",
        "report_plot.plot()\n",
        "mean_test_scores = grid_search.cv_results_['mean_test_score']\n",
        "parameters = grid_search.cv_results_['params']\n",
        "data = pd.DataFrame(mean_test_scores.reshape(len(param_grid['max_depth']), len(param_grid['n_estimators'])),\n",
        "                    index=[f'max_depth {i}' for i in param_grid['max_depth']],\n",
        "                    columns=[f'n_estimators {j}' for j in param_grid['n_estimators']])\n",
        "plt.figure(figsize=(6, 6))\n",
        "sns.heatmap(data, annot=True, fmt=\".2f\", cmap=\"Blues\", cbar=True)\n",
        "plt.xlabel('N Estimator')\n",
        "plt.ylabel('Max Depth')\n",
        "plt.title('Accuracy Comparison with Different Parameters')\n",
        "plt.show()"
      ]
    },
    {
      "attachments": {},
      "cell_type": "markdown",
      "metadata": {
        "id": "-q8gS8BYmyf6"
      },
      "source": [
        "## RIDGE CLASSIFICATION"
      ]
    },
    {
      "cell_type": "code",
      "execution_count": null,
      "metadata": {
        "colab": {
          "base_uri": "https://localhost:8080/",
          "height": 1000
        },
        "id": "TX6m_Y5umyf7",
        "outputId": "ad305ed6-3437-4022-edf6-b351f43003b5"
      },
      "outputs": [],
      "source": [
        "param_grid = {\n",
        "    'alphas': [0.1, 1.0, 10.0],\n",
        "    'solver': ['auto', 'svd', 'cholesky', 'lsqr', 'sparse_cg', 'sag', 'saga']\n",
        "}\n",
        "ridge_classifier = RidgeClassifierCV()\n",
        "grid_search = GridSearchCV(estimator=ridge_classifier, param_grid=param_grid, scoring='accuracy', cv=5)\n",
        "grid_search.fit(x_val, y_val)\n",
        "best_model = grid_search.best_estimator_\n",
        "print(\"Best Model:\", best_model)\n",
        "best_model.fit(x_train_temp,y_train_temp)\n",
        "y_pred = best_model.predict(x_test)\n",
        "confusion_plot = ConfusionMatrixPlot(labels, y_test, y_pred)\n",
        "confusion_plot.plot()\n",
        "report_plot = ClassificationReportPlot(labels, y_test, y_pred)\n",
        "report_plot.plot()\n",
        "mean_test_scores = grid_search.cv_results_['mean_test_score']\n",
        "parameters = grid_search.cv_results_['params']\n",
        "data = pd.DataFrame(\n",
        "    np.array(mean_test_scores).reshape(len(param_grid['alphas']), len(param_grid['solver'])),\n",
        "    index=[f'alphas {i+1}' for i in range(len(param_grid['solver']))],\n",
        "    columns=[f'solver {j}' for j in param_grid['alphas']])\n",
        "plt.figure(figsize=(7, 6))\n",
        "sns.heatmap(data, annot=True, fmt=\".2f\", cmap=\"Blues\", cbar=True)\n",
        "plt.xlabel('Alphas')\n",
        "plt.ylabel('Solver')\n",
        "plt.title('Accuracy Comparison with Different Parameters')\n",
        "plt.show()"
      ]
    },
    {
      "attachments": {},
      "cell_type": "markdown",
      "metadata": {
        "id": "5nA2H6UrmygN"
      },
      "source": [
        "## NEURAL NETWORK"
      ]
    },
    {
      "cell_type": "code",
      "execution_count": null,
      "metadata": {
        "id": "G_faNjYrmygO"
      },
      "outputs": [],
      "source": [
        "n_encoder = OneHotEncoder(sparse=False)\n",
        "n_encoder.fit(y_train.reshape(-1,1))\n",
        "e_train_Y = n_encoder.transform(y_train.reshape(-1,1))\n",
        "e_test_Y = n_encoder.transform(y_test.reshape(-1,1))"
      ]
    },
    {
      "cell_type": "code",
      "execution_count": null,
      "metadata": {
        "id": "uW_lOkpQmyhH"
      },
      "outputs": [
        {
          "name": "stdout",
          "output_type": "stream",
          "text": [
            "Model: \"sequential_9\"\n",
            "_________________________________________________________________\n",
            " Layer (type)                Output Shape              Param #   \n",
            "=================================================================\n",
            " dense_12 (Dense)            (None, 256)               256256    \n",
            "                                                                 \n",
            " dropout_10 (Dropout)        (None, 256)               0         \n",
            "                                                                 \n",
            " dense_13 (Dense)            (None, 8)                 2056      \n",
            "                                                                 \n",
            "=================================================================\n",
            "Total params: 258,312\n",
            "Trainable params: 258,312\n",
            "Non-trainable params: 0\n",
            "_________________________________________________________________\n"
          ]
        }
      ],
      "source": [
        "def create_model():\n",
        "    model = Sequential()\n",
        "    model.add(Dense(256, input_dim=1000, activation=\"relu\"))\n",
        "    model.add(Dropout(0.3))\n",
        "    model.add(Dense(8, kernel_regularizer=l2(0.1), activation=\"softmax\"))\n",
        "    model.compile(optimizer=tf.keras.optimizers.Adam(learning_rate = 0.0001),\n",
        "                 loss=\"categorical_hinge\")\n",
        "    return model\n",
        "\n",
        "model1 = create_model()\n",
        "model1.summary()\n"
      ]
    },
    {
      "cell_type": "code",
      "execution_count": null,
      "metadata": {},
      "outputs": [],
      "source": [
        "epoch = 50\n",
        "history = model1.fit(x_train, e_train_Y, validation_split = 0.15, epochs=epoch, batch_size=64, verbose=1)"
      ]
    },
    {
      "cell_type": "code",
      "execution_count": null,
      "metadata": {
        "id": "Az-eCZx1myhJ"
      },
      "outputs": [],
      "source": [
        "sea.set_style(\"darkgrid\")\n",
        "e = np.linspace(1, epoch, epoch)\n",
        "fig, axes = plt.subplots(nrows=1, ncols=1, figsize=(8, 6))\n",
        "sea.lineplot(x = e, y = history.history[\"loss\"],\n",
        "             ax=axes, label=\"train\"),\n",
        "sea.lineplot(x = e, y = history.history[\"val_loss\"],\n",
        "             ax=axes, label=\"val\"),\n",
        "axes.set_ylabel(\"Categorical Hinge Loss\")\n",
        "axes.set_xlabel(\"epoch\"),"
      ]
    },
    {
      "cell_type": "code",
      "execution_count": null,
      "metadata": {
        "id": "gUks9Q24myhK"
      },
      "outputs": [],
      "source": [
        "y_pred = model1.predict(x_test)\n",
        "y_pred = np.argmax(y_pred, axis=-1)\n",
        "confusion_plot = ConfusionMatrixPlot(y_test, y_pred)\n",
        "confusion_plot.plot()\n",
        "report_plot = ClassificationReportPlot(y_test, y_pred)\n",
        "report_plot.plot()"
      ]
    },
    {
      "cell_type": "code",
      "execution_count": null,
      "metadata": {
        "colab": {
          "base_uri": "https://localhost:8080/",
          "height": 381
        },
        "id": "_5Ff7erCdpC1",
        "outputId": "c588fcd6-253c-4b8b-9c43-a3c5b150df1a"
      },
      "outputs": [],
      "source": [
        "#Chuyển mảng x thành mảng 2 chiều\n",
        " ## x_2d = np.reshape(x, (-1, 1))\n",
        "\n",
        "# Tạo DataFrame từ mảng và label\n",
        "## data = pd.DataFrame({'features': x_2d.ravel(), 'labels': y})\n",
        "\n",
        "# Lưu DataFrame vào file CSV\n",
        "## data.to_csv('processed_data.csv', index=False)\n"
      ]
    },
    {
      "attachments": {},
      "cell_type": "markdown",
      "metadata": {},
      "source": [
        "## COMPARE\n"
      ]
    },
    {
      "cell_type": "code",
      "execution_count": null,
      "metadata": {},
      "outputs": [],
      "source": [
        "from matplotlib import pyplot as plt\n",
        "plt.style.use('default')\n",
        "font = {'family' : 'normal',\n",
        "        'weight' : 'normal',\n",
        "        'size'   : 20}\n",
        "matplotlib.rc('font', **font)\n",
        "\n",
        "objects = ('KNN', 'Naive Bayes', 'Random Forest', 'ANN')\n",
        "y_pos = np.arange(len(objects))\n",
        "plt.rcParams['figure.figsize'] = [16, 8]\n",
        "plt.rcParams['font.size'] = '20'\n",
        "\n",
        "training_samples1 = [97.12,96.15,95.19, 98.08]\n",
        "training_samples_2 = [97.12,97.12,96.15, 98.08]\n",
        "training_samples_3 = [100.0,96.15,97.12, 98.08]\n",
        "\n",
        "for index, value in enumerate(training_samples1):\n",
        "    plt.text(index - 0.35, value + 0.6, str(value), fontsize=16)\n",
        "for index, value in enumerate(training_samples_2):\n",
        "    plt.text(index - 0.1, value + 0.6, str(value), fontsize=16)\n",
        "for index, value in enumerate(training_samples_3):\n",
        "    plt.text(index + 0.14, value + 0.6, str(value), fontsize=16)\n",
        "    \n",
        "# for index, value in enumerate(min_rewardVSs):\n",
        "#     plt.text(index + 0.25, value + 0.1, str(\"{:.3f}\".format(value)), fontsize=14)\n",
        "#plt.bar(y_pos, performance, align='center', alpha=0.5)\n",
        "\n",
        "print(training_samples1)\n",
        "bars_sigmoid = plt.bar(y_pos - 0.24, training_samples1, 0.24, label = '50 training samples', color = 'pink')\n",
        "plt.bar(y_pos, training_samples_2, 0.24, label = '110 training samples', color = 'firebrick')\n",
        "bars_linear = plt.bar(y_pos + 0.24, training_samples_3, 0.24, label = '170 training samples', color = 'mediumaquamarine')\n",
        "\n",
        "plt.xticks(y_pos, objects)\n",
        "plt.ylim([0, 110])\n",
        "patterns = (\"o\", \"o\", \"o\", \"o\")\n",
        "for i, x in zip(bars_sigmoid,patterns):\n",
        "      i.set_hatch(x)\n",
        "patterns = (\"\\\\\", \"\\\\\", \"\\\\\", \"\\\\\")\n",
        "for i, x in zip(bars_linear,patterns):\n",
        "      i.set_hatch(x)\n",
        "plt.legend(fontsize = 20, bbox_to_anchor =(1, 1.15), ncol = 3)\n",
        "#plt.margins(0.1,0)\n",
        "plt.ylabel('Accuracy (%)')\n",
        "plt.xlabel('Model')\n",
        "plt.savefig('../pics/Test/test_supervised.svg', bbox_inches='tight')\n",
        "plt.savefig('../pics/Test/test_supervised.pdf', bbox_inches='tight')\n",
        "plt.show()\n"
      ]
    }
  ],
  "metadata": {
    "accelerator": "TPU",
    "colab": {
      "gpuType": "T4",
      "provenance": []
    },
    "kernelspec": {
      "display_name": "Python 3",
      "name": "python3"
    },
    "language_info": {
      "codemirror_mode": {
        "name": "ipython",
        "version": 3
      },
      "file_extension": ".py",
      "mimetype": "text/x-python",
      "name": "python",
      "nbconvert_exporter": "python",
      "pygments_lexer": "ipython3",
      "version": "3.10.4"
    },
    "papermill": {
      "duration": 348.045633,
      "end_time": "2020-10-06T13:18:10.679487",
      "environment_variables": {},
      "exception": null,
      "input_path": "__notebook__.ipynb",
      "output_path": "__notebook__.ipynb",
      "parameters": {},
      "start_time": "2020-10-06T13:12:22.633854",
      "version": "2.1.0"
    }
  },
  "nbformat": 4,
  "nbformat_minor": 0
}
